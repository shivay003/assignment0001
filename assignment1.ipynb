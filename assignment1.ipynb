{
 "cells": [
  {
   "cell_type": "markdown",
   "id": "9679b072-c39e-4e8d-92e7-8974f426945c",
   "metadata": {},
   "source": [
    "Q1. Create one variable containing following type of data:\n",
    "(i) string\n",
    "(ii) list\n",
    "(iii) float\n",
    "(iv) tuple"
   ]
  },
  {
   "cell_type": "code",
   "execution_count": 4,
   "id": "7f16c9d0-6525-40d4-a126-816cc692e8ce",
   "metadata": {},
   "outputs": [],
   "source": [
    "a = [\"akash\",[1,2,3,4,3,5],10.24,(25,45,\"shukla\")]\n"
   ]
  },
  {
   "cell_type": "code",
   "execution_count": 5,
   "id": "5601a8e9-11b0-4dfb-afeb-463044e75d56",
   "metadata": {},
   "outputs": [
    {
     "data": {
      "text/plain": [
       "['akash', [1, 2, 3, 4, 3, 5], 10.24, (25, 45, 'shukla')]"
      ]
     },
     "execution_count": 5,
     "metadata": {},
     "output_type": "execute_result"
    }
   ],
   "source": [
    "a"
   ]
  },
  {
   "cell_type": "markdown",
   "id": "25aa996a-5820-49e0-8c32-4b150a79beaf",
   "metadata": {},
   "source": [
    "Q2. Given are some following variables containing data:\n",
    "(i) var1 = ‘ ‘ string\n",
    "(ii) var2 = ‘[ DS , ML , Python]’ string\n",
    "(iii) var3 = [ ‘DS’ , ’ML’ , ‘Python’ ] list\n",
    "(iv) var4 = 1. float\n",
    "What will be the data type of the above given variable."
   ]
  },
  {
   "cell_type": "code",
   "execution_count": 8,
   "id": "0fed44ca-9b17-4710-956f-232c82e08f7f",
   "metadata": {},
   "outputs": [],
   "source": [
    "var1 = ''"
   ]
  },
  {
   "cell_type": "code",
   "execution_count": 9,
   "id": "9144a7c5-9301-4f35-a210-48c9a35d2292",
   "metadata": {},
   "outputs": [
    {
     "data": {
      "text/plain": [
       "str"
      ]
     },
     "execution_count": 9,
     "metadata": {},
     "output_type": "execute_result"
    }
   ],
   "source": [
    "type ('')"
   ]
  },
  {
   "cell_type": "code",
   "execution_count": 10,
   "id": "a7a10880-a102-4b7a-b9a7-531ee0a6009a",
   "metadata": {},
   "outputs": [],
   "source": [
    "var2 = '[DS , ML , Python]'"
   ]
  },
  {
   "cell_type": "code",
   "execution_count": 11,
   "id": "f9e12409-40a7-4dad-9b8c-f3c5b90e42d6",
   "metadata": {},
   "outputs": [
    {
     "data": {
      "text/plain": [
       "str"
      ]
     },
     "execution_count": 11,
     "metadata": {},
     "output_type": "execute_result"
    }
   ],
   "source": [
    "type (var2)"
   ]
  },
  {
   "cell_type": "code",
   "execution_count": 12,
   "id": "a07d3bcf-fab1-4de0-bf6a-ae4873e5bbb1",
   "metadata": {},
   "outputs": [],
   "source": [
    "var3 = ['DS' , 'ML' , 'Python']"
   ]
  },
  {
   "cell_type": "code",
   "execution_count": 13,
   "id": "9d45bec0-6d59-42fc-a92e-7f6cb7e8a728",
   "metadata": {},
   "outputs": [
    {
     "data": {
      "text/plain": [
       "list"
      ]
     },
     "execution_count": 13,
     "metadata": {},
     "output_type": "execute_result"
    }
   ],
   "source": [
    "type (var3)"
   ]
  },
  {
   "cell_type": "code",
   "execution_count": 14,
   "id": "5bba19d9-b5bb-46ad-a816-7a81c5c1c601",
   "metadata": {},
   "outputs": [],
   "source": [
    "var4 = 1."
   ]
  },
  {
   "cell_type": "code",
   "execution_count": 15,
   "id": "89a92ca1-03a3-4527-90c3-4e40331db206",
   "metadata": {},
   "outputs": [
    {
     "data": {
      "text/plain": [
       "float"
      ]
     },
     "execution_count": 15,
     "metadata": {},
     "output_type": "execute_result"
    }
   ],
   "source": [
    "type (var4)"
   ]
  },
  {
   "cell_type": "markdown",
   "id": "ec502b94-871c-4abc-87d5-380b7862f170",
   "metadata": {},
   "source": [
    "Q3. Explain the use of the following operators using an example:\n",
    "(i) /\n",
    "(ii) %\n",
    "(iii) //\n",
    "(iv) **"
   ]
  },
  {
   "cell_type": "code",
   "execution_count": 17,
   "id": "b96602f9-4aba-4b78-bcec-c7e9b6e0c6d7",
   "metadata": {},
   "outputs": [
    {
     "data": {
      "text/plain": [
       "5.0"
      ]
     },
     "execution_count": 17,
     "metadata": {},
     "output_type": "execute_result"
    }
   ],
   "source": [
    "10/2"
   ]
  },
  {
   "cell_type": "code",
   "execution_count": 18,
   "id": "9de048c2-6324-4b28-ad50-f356e43f954b",
   "metadata": {},
   "outputs": [
    {
     "data": {
      "text/plain": [
       "0"
      ]
     },
     "execution_count": 18,
     "metadata": {},
     "output_type": "execute_result"
    }
   ],
   "source": [
    "8%2"
   ]
  },
  {
   "cell_type": "code",
   "execution_count": 19,
   "id": "05003f71-b725-4fba-9dce-bcc6a45e537a",
   "metadata": {},
   "outputs": [
    {
     "data": {
      "text/plain": [
       "2"
      ]
     },
     "execution_count": 19,
     "metadata": {},
     "output_type": "execute_result"
    }
   ],
   "source": [
    "10//5"
   ]
  },
  {
   "cell_type": "code",
   "execution_count": 21,
   "id": "fd1bb028-921b-4dc1-ada2-e3c172301d55",
   "metadata": {},
   "outputs": [
    {
     "data": {
      "text/plain": [
       "9"
      ]
     },
     "execution_count": 21,
     "metadata": {},
     "output_type": "execute_result"
    }
   ],
   "source": [
    "3**2"
   ]
  },
  {
   "cell_type": "markdown",
   "id": "91a65012-bf06-41d4-9385-69071722adfc",
   "metadata": {},
   "source": [
    "Q4. Create a list of length 10 of your choice containing multiple types of data. Using for loop print the\n",
    "element and its data type."
   ]
  },
  {
   "cell_type": "code",
   "execution_count": 22,
   "id": "85effd13-a0fe-498b-a2bd-a19fa75d3165",
   "metadata": {},
   "outputs": [],
   "source": [
    "l = [1,2,3,4,5,6,\"akash\",True,45.45,5+4j]"
   ]
  },
  {
   "cell_type": "code",
   "execution_count": 23,
   "id": "7579cce4-d04f-4d23-b1a0-d95967ef07fe",
   "metadata": {},
   "outputs": [
    {
     "data": {
      "text/plain": [
       "[1, 2, 3, 4, 5, 6, 'akash', True, 45.45, (5+4j)]"
      ]
     },
     "execution_count": 23,
     "metadata": {},
     "output_type": "execute_result"
    }
   ],
   "source": [
    "l"
   ]
  },
  {
   "cell_type": "code",
   "execution_count": 28,
   "id": "29cf3c8d-be42-4d87-8889-641daa67df09",
   "metadata": {},
   "outputs": [
    {
     "name": "stdout",
     "output_type": "stream",
     "text": [
      "<class 'int'>\n",
      "1\n",
      "<class 'int'>\n",
      "2\n",
      "<class 'int'>\n",
      "3\n",
      "<class 'int'>\n",
      "4\n",
      "<class 'int'>\n",
      "5\n",
      "<class 'int'>\n",
      "6\n",
      "<class 'str'>\n",
      "akash\n",
      "<class 'bool'>\n",
      "True\n",
      "<class 'float'>\n",
      "45.45\n",
      "<class 'complex'>\n",
      "(5+4j)\n"
     ]
    }
   ],
   "source": [
    "for i in l:\n",
    "    print (type(i))\n",
    "    print (i)\n",
    "    "
   ]
  },
  {
   "cell_type": "markdown",
   "id": "e59a06cb-fdf4-4a2a-bfc3-f3474294cdec",
   "metadata": {},
   "source": [
    "Q5. Using a while loop, verify if the number A is purely divisible by number B and if so then how many\n",
    "times it can be divisible."
   ]
  },
  {
   "cell_type": "markdown",
   "id": "ac0c22ef-7238-460b-a51e-31716f915ca9",
   "metadata": {},
   "source": [
    "a = 10\n",
    "b = 2\n",
    "while a//b:\n",
    "    print (a)\n",
    "    a = a//b"
   ]
  },
  {
   "cell_type": "markdown",
   "id": "dc4bef80-8d08-4177-bb63-1399862833e4",
   "metadata": {},
   "source": [
    "Q6. Create a list containing 25 int type data. Using for loop and if-else condition print if the element is\n",
    "divisible by 3 or not."
   ]
  },
  {
   "cell_type": "code",
   "execution_count": 1,
   "id": "9ad78f98-fa2e-4381-940b-9b702557cfee",
   "metadata": {},
   "outputs": [],
   "source": [
    "l = [3,6,9,12,15,18,21,24,27,30,554,65,544,5664,115,54,51,65,97,4,6,995,6,56]\n"
   ]
  },
  {
   "cell_type": "code",
   "execution_count": 2,
   "id": "66e987c1-5f21-4c04-b563-596b0fd4c421",
   "metadata": {},
   "outputs": [
    {
     "data": {
      "text/plain": [
       "[3,\n",
       " 6,\n",
       " 9,\n",
       " 12,\n",
       " 15,\n",
       " 18,\n",
       " 21,\n",
       " 24,\n",
       " 27,\n",
       " 30,\n",
       " 554,\n",
       " 65,\n",
       " 544,\n",
       " 5664,\n",
       " 115,\n",
       " 54,\n",
       " 51,\n",
       " 65,\n",
       " 97,\n",
       " 4,\n",
       " 6,\n",
       " 995,\n",
       " 6,\n",
       " 56]"
      ]
     },
     "execution_count": 2,
     "metadata": {},
     "output_type": "execute_result"
    }
   ],
   "source": [
    "l"
   ]
  },
  {
   "cell_type": "code",
   "execution_count": 7,
   "id": "f39b6812-edd2-4bb9-9065-6bfb9265cc40",
   "metadata": {},
   "outputs": [
    {
     "name": "stdout",
     "output_type": "stream",
     "text": [
      "1.0\n",
      "2.0\n",
      "3.0\n",
      "4.0\n",
      "5.0\n",
      "6.0\n",
      "7.0\n",
      "8.0\n",
      "9.0\n",
      "10.0\n",
      "184.66666666666666\n",
      "21.666666666666668\n",
      "181.33333333333334\n",
      "1888.0\n",
      "38.333333333333336\n",
      "18.0\n",
      "17.0\n",
      "21.666666666666668\n",
      "32.333333333333336\n",
      "1.3333333333333333\n",
      "2.0\n",
      "331.6666666666667\n",
      "2.0\n",
      "18.666666666666668\n",
      "not devide\n"
     ]
    }
   ],
   "source": [
    "for i in l:\n",
    "  if l[0::]:\n",
    "    i= i/3\n",
    "    print (i)\n",
    "else:\n",
    "  print (\"not devide\")"
   ]
  },
  {
   "cell_type": "code",
   "execution_count": null,
   "id": "3c1e84be-701b-415d-be37-db30d723431c",
   "metadata": {},
   "outputs": [],
   "source": []
  }
 ],
 "metadata": {
  "kernelspec": {
   "display_name": "Python 3 (ipykernel)",
   "language": "python",
   "name": "python3"
  },
  "language_info": {
   "codemirror_mode": {
    "name": "ipython",
    "version": 3
   },
   "file_extension": ".py",
   "mimetype": "text/x-python",
   "name": "python",
   "nbconvert_exporter": "python",
   "pygments_lexer": "ipython3",
   "version": "3.10.8"
  }
 },
 "nbformat": 4,
 "nbformat_minor": 5
}
